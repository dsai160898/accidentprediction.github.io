{
 "cells": [
  {
   "cell_type": "markdown",
   "metadata": {},
   "source": [
    "### Set Dataset Path"
   ]
  },
  {
   "cell_type": "code",
   "execution_count": 1,
   "metadata": {},
   "outputs": [],
   "source": [
    "import os\n",
    "#Set your own data files path here\n",
    "path = r\"C:\\Users\\SAI\\Desktop\\00_PROJECT\\project_done\\project_done-20200420T133725Z-001\\project_done\"\n",
    "os.chdir(path)"
   ]
  },
  {
   "cell_type": "markdown",
   "metadata": {},
   "source": [
    "### Import Libraries"
   ]
  },
  {
   "cell_type": "code",
   "execution_count": 2,
   "metadata": {},
   "outputs": [],
   "source": [
    "import pandas as pd\n",
    "import matplotlib.pyplot as plt\n",
    "import seaborn as sns\n",
    "import random\n",
    "import datetime"
   ]
  },
  {
   "cell_type": "markdown",
   "metadata": {},
   "source": [
    "### Import Dataset"
   ]
  },
  {
   "cell_type": "code",
   "execution_count": 3,
   "metadata": {},
   "outputs": [],
   "source": [
    "pima = pd.read_csv(\"non_accident2014.csv\")"
   ]
  },
  {
   "cell_type": "markdown",
   "metadata": {},
   "source": [
    "### Splitting the Data for Training and Testing"
   ]
  },
  {
   "cell_type": "code",
   "execution_count": 35,
   "metadata": {},
   "outputs": [
    {
     "name": "stdout",
     "output_type": "stream",
     "text": [
      "(9600, 12) (9600,)\n",
      "(6400, 12) (6400,)\n"
     ]
    }
   ],
   "source": [
    "#Import train_test_split function\n",
    "from sklearn.model_selection import train_test_split\n",
    "feature_cols = ['Longitude','Latitude','Day_of_Week','Hour','Day_of_year','Local_Authority_(District)','1st_Road_Class',\n",
    "       '1st_Road_Number','Speed_limit','Accident_Severity','Number_of_Vehicles','Number_of_Casualties']\n",
    "    \n",
    "    \n",
    "X=pima[feature_cols] #Features\n",
    "\n",
    "y=pima['Accident']  #Labels\n",
    "\n",
    "\n",
    "#Split dataset into training set and test set\n",
    "X_train, X_test, y_train, y_test = train_test_split(X, y, test_size=0.4) # 70% training and 30% test\n",
    "print (X_train.shape, y_train.shape)\n",
    "print (X_test.shape, y_test.shape)"
   ]
  },
  {
   "cell_type": "markdown",
   "metadata": {},
   "source": [
    "### Impelementing Random Forest Model"
   ]
  },
  {
   "cell_type": "code",
   "execution_count": 37,
   "metadata": {},
   "outputs": [
    {
     "name": "stdout",
     "output_type": "stream",
     "text": [
      "[0 0 0 0 0 0 0 1 0 0 0 1 1 0 0]\n",
      "7567     0\n",
      "12121    0\n",
      "15793    0\n",
      "10453    0\n",
      "12115    0\n",
      "99       0\n",
      "4254     0\n",
      "352      1\n",
      "69       0\n",
      "10373    0\n",
      "8706     0\n",
      "5148     1\n",
      "3184     1\n",
      "6405     0\n",
      "14410    0\n",
      "Name: Accident, dtype: int64\n"
     ]
    }
   ],
   "source": [
    "#Import Random Forest Model\n",
    "from sklearn.ensemble import RandomForestClassifier\n",
    "\n",
    "#Create a Gaussian Classifier\n",
    "clf=RandomForestClassifier(n_estimators=150)\n",
    "\n",
    "#Train the model using the training sets\n",
    "model=clf.fit(X_train,y_train)\n",
    "\n",
    "y_pred=clf.predict(X_test)\n",
    "print(y_pred[0:15])\n",
    "print(y_test[0:15])"
   ]
  },
  {
   "cell_type": "markdown",
   "metadata": {},
   "source": [
    "##### Calculating Accuracy, Precision & Recall"
   ]
  },
  {
   "cell_type": "code",
   "execution_count": 19,
   "metadata": {},
   "outputs": [
    {
     "name": "stdout",
     "output_type": "stream",
     "text": [
      "Score: 0.99984375\n"
     ]
    },
    {
     "data": {
      "image/png": "[encoded data removed]",
      "text/plain": [
       "<Figure size 432x288 with 1 Axes>"
      ]
     },
     "metadata": {
      "needs_background": "light"
     },
     "output_type": "display_data"
    }
   ],
   "source": [
    "plt.scatter(y_test,y_pred)\n",
    "\n",
    "\n",
    "print(\"Score:\", model.score(X_test, y_test)) \n"
   ]
  },
  {
   "cell_type": "code",
   "execution_count": 21,
   "metadata": {},
   "outputs": [
    {
     "name": "stdout",
     "output_type": "stream",
     "text": [
      "Accuracy: 0.99984375\n",
      "Precision: 0.999395039322444\n",
      "Recall: 1.0\n",
      "F1 Score: 0.999697428139183\n"
     ]
    }
   ],
   "source": [
    "#Import scikit-learn metrics module for accuracy calculation\n",
    "from sklearn import metrics\n",
    "\n",
    "#Model Accuracy, how often is the classifier correct?\n",
    "print(\"Accuracy:\",metrics.accuracy_score(y_test, y_pred))\n",
    "print(\"Precision:\",metrics.precision_score(y_test, y_pred))\n",
    "print(\"Recall:\",metrics.recall_score(y_test, y_pred))\n",
    "print(\"F1 Score:\",metrics.f1_score(y_test, y_pred))"
   ]
  },
  {
   "cell_type": "code",
   "execution_count": 26,
   "metadata": {},
   "outputs": [
    {
     "name": "stdout",
     "output_type": "stream",
     "text": [
      "Confusion Matrix :\n",
      "[[4747    1]\n",
      " [   0 1652]]\n",
      "Accuracy Score : 0.99984375\n",
      "Report :\n",
      "              precision    recall  f1-score   support\n",
      "\n",
      "           0       1.00      1.00      1.00      4748\n",
      "           1       1.00      1.00      1.00      1652\n",
      "\n",
      "    accuracy                           1.00      6400\n",
      "   macro avg       1.00      1.00      1.00      6400\n",
      "weighted avg       1.00      1.00      1.00      6400\n",
      "\n"
     ]
    }
   ],
   "source": [
    "# Python script for confusion matrix creation. \n",
    "from sklearn.metrics import confusion_matrix \n",
    "from sklearn.metrics import accuracy_score \n",
    "from sklearn.metrics import classification_report \n",
    "\n",
    "results = confusion_matrix(y_test, y_pred) \n",
    "\n",
    "print (\"Confusion Matrix :\")\n",
    "print(results) \n",
    "print (\"Accuracy Score :\",accuracy_score(y_test, y_pred)) \n",
    "print (\"Report :\") \n",
    "print (classification_report(y_test, y_pred)) \n"
   ]
  },
  {
   "cell_type": "code",
   "execution_count": 27,
   "metadata": {},
   "outputs": [
    {
     "data": {
      "text/plain": [
       "array([[4747,    1],\n",
       "       [   0, 1652]], dtype=int64)"
      ]
     },
     "execution_count": 27,
     "metadata": {},
     "output_type": "execute_result"
    }
   ],
   "source": [
    "from sklearn import metrics\n",
    "cnf_matrix = metrics.confusion_matrix(y_test, y_pred)\n",
    "cnf_matrix"
   ]
  },
  {
   "cell_type": "markdown",
   "metadata": {},
   "source": [
    "TP | FP\n",
    "\n",
    "FN | TN"
   ]
  },
  {
   "cell_type": "markdown",
   "metadata": {},
   "source": [
    "### Finding Important Features"
   ]
  },
  {
   "cell_type": "code",
   "execution_count": 29,
   "metadata": {},
   "outputs": [
    {
     "data": {
      "text/plain": [
       "Day_of_year    0.646891\n",
       "Hour           0.170433\n",
       "Day_of_Week    0.135174\n",
       "Latitude       0.019875\n",
       "Longitude      0.016309\n",
       "Speed_limit    0.011317\n",
       "dtype: float64"
      ]
     },
     "execution_count": 29,
     "metadata": {},
     "output_type": "execute_result"
    }
   ],
   "source": [
    "feature_imp = pd.Series(clf.feature_importances_,index=feature_cols).sort_values(ascending=False)\n",
    "feature_imp"
   ]
  },
  {
   "cell_type": "markdown",
   "metadata": {},
   "source": [
    "### Plotting Bar Graph"
   ]
  },
  {
   "cell_type": "code",
   "execution_count": 9,
   "metadata": {},
   "outputs": [
    {
     "name": "stderr",
     "output_type": "stream",
     "text": [
      "No handles with labels found to put in legend.\n"
     ]
    },
    {
     "data": {
      "image/png": "[encoded data removed]",
      "text/plain": [
       "<Figure size 432x288 with 1 Axes>"
      ]
     },
     "metadata": {
      "needs_background": "light"
     },
     "output_type": "display_data"
    }
   ],
   "source": [
    "import matplotlib.pyplot as plt\n",
    "import seaborn as sns\n",
    "%matplotlib inline\n",
    "# Creating a bar plot\n",
    "sns.barplot(x=feature_imp, y=feature_imp.index)\n",
    "# Add labels to your graph\n",
    "plt.xlabel('Feature Importance Score')\n",
    "plt.ylabel('Features')\n",
    "plt.title(\"Visualizing Important Features\")\n",
    "plt.legend()\n",
    "plt.show()"
   ]
  },
  {
   "cell_type": "markdown",
   "metadata": {},
   "source": [
    "### Learning With Important Features"
   ]
  },
  {
   "cell_type": "code",
   "execution_count": 30,
   "metadata": {},
   "outputs": [],
   "source": [
    "#Import train_test_split function\n",
    "from sklearn.model_selection import train_test_split\n",
    "feature_cols = ['Longitude','Latitude','Day_of_Week','Hour','Day_of_year']\n",
    "X=pima[feature_cols] #Features\n",
    "\n",
    "y=pima['Accident']  #Labels\n",
    "\n",
    "\n",
    "#Split dataset into training set and test set\n",
    "X_train, X_test, y_train, y_test = train_test_split(X, y, test_size=0.4) # 70% training and 30% test"
   ]
  },
  {
   "cell_type": "code",
   "execution_count": 31,
   "metadata": {},
   "outputs": [],
   "source": [
    "#Import Random Forest Model\n",
    "from sklearn.ensemble import RandomForestClassifier\n",
    "\n",
    "#Create a Gaussian Classifier\n",
    "clf=RandomForestClassifier(n_estimators=150)\n",
    "\n",
    "#Train the model using the training sets\n",
    "clf.fit(X_train,y_train)\n",
    "\n",
    "y_pred=clf.predict(X_test)"
   ]
  },
  {
   "cell_type": "code",
   "execution_count": 32,
   "metadata": {},
   "outputs": [
    {
     "name": "stdout",
     "output_type": "stream",
     "text": [
      "Accuracy: 0.99984375\n",
      "Precision: 0.9993690851735015\n",
      "Recall: 1.0\n",
      "F1 Score: 0.999684443041969\n"
     ]
    }
   ],
   "source": [
    "#Import scikit-learn metrics module for accuracy calculation\n",
    "from sklearn import metrics\n",
    "\n",
    "#Model Accuracy, how often is the classifier correct?\n",
    "print(\"Accuracy:\",metrics.accuracy_score(y_test, y_pred))\n",
    "print(\"Precision:\",metrics.precision_score(y_test, y_pred))\n",
    "print(\"Recall:\",metrics.recall_score(y_test, y_pred))\n",
    "print(\"F1 Score:\",metrics.f1_score(y_test, y_pred))"
   ]
  },
  {
   "cell_type": "markdown",
   "metadata": {},
   "source": [
    "### Taking User Input"
   ]
  },
  {
   "cell_type": "code",
   "execution_count": 13,
   "metadata": {},
   "outputs": [],
   "source": [
    "df_userinput = pd.read_csv(\"userinput.csv\")"
   ]
  },
  {
   "cell_type": "code",
   "execution_count": 14,
   "metadata": {},
   "outputs": [],
   "source": [
    "import time\n",
    "import datetime\n",
    "from datetime import date\n",
    "df_inputdata = pd.DataFrame(columns=['Longitude','Latitude','Day_of_Week','Hour','Day_of_year'])\n",
    "\n",
    "for index, row in df_userinput.iterrows():\n",
    "    longitude=row['Longitude']\n",
    "    latitude=row['Latitude']\n",
    "    today = date.today()\n",
    "    today1=datetime.datetime.now()\n",
    "    dweek = today.weekday()\n",
    "    nhr = datetime.datetime.today().hour\n",
    "    nday = (today1 - datetime.datetime(today1.year, 1, 1)).days + 1\n",
    "\n",
    "    dfnew=pd.DataFrame([[longitude,latitude,dweek,nhr,nday,]],\n",
    "                   columns=['Longitude','Latitude','Day_of_Week','Hour','Day_of_year',])\n",
    "    df_inputdata = df_inputdata.append(dfnew,ignore_index=True)\n",
    "    \n",
    "df_inputdata.to_csv(\"inputdata.csv\")"
   ]
  },
  {
   "cell_type": "code",
   "execution_count": 15,
   "metadata": {},
   "outputs": [],
   "source": [
    "pima1 = pd.read_csv(\"inputdata.csv\")"
   ]
  },
  {
   "cell_type": "code",
   "execution_count": 16,
   "metadata": {},
   "outputs": [],
   "source": [
    "X1=pima1[feature_cols]"
   ]
  },
  {
   "cell_type": "code",
   "execution_count": 17,
   "metadata": {},
   "outputs": [
    {
     "data": {
      "text/html": [
       "<div>\n",
       "<style scoped>\n",
       "    .dataframe tbody tr th:only-of-type {\n",
       "        vertical-align: middle;\n",
       "    }\n",
       "\n",
       "    .dataframe tbody tr th {\n",
       "        vertical-align: top;\n",
       "    }\n",
       "\n",
       "    .dataframe thead th {\n",
       "        text-align: right;\n",
       "    }\n",
       "</style>\n",
       "<table border=\"1\" class=\"dataframe\">\n",
       "  <thead>\n",
       "    <tr style=\"text-align: right;\">\n",
       "      <th></th>\n",
       "      <th>Longitude</th>\n",
       "      <th>Latitude</th>\n",
       "      <th>Day_of_Week</th>\n",
       "      <th>Hour</th>\n",
       "      <th>Day_of_year</th>\n",
       "    </tr>\n",
       "  </thead>\n",
       "  <tbody>\n",
       "    <tr>\n",
       "      <th>0</th>\n",
       "      <td>-0.140579</td>\n",
       "      <td>51.507549</td>\n",
       "      <td>6</td>\n",
       "      <td>0</td>\n",
       "      <td>110</td>\n",
       "    </tr>\n",
       "    <tr>\n",
       "      <th>1</th>\n",
       "      <td>-0.073147</td>\n",
       "      <td>51.565363</td>\n",
       "      <td>6</td>\n",
       "      <td>0</td>\n",
       "      <td>110</td>\n",
       "    </tr>\n",
       "    <tr>\n",
       "      <th>2</th>\n",
       "      <td>-0.078021</td>\n",
       "      <td>51.528483</td>\n",
       "      <td>6</td>\n",
       "      <td>0</td>\n",
       "      <td>110</td>\n",
       "    </tr>\n",
       "    <tr>\n",
       "      <th>3</th>\n",
       "      <td>-0.090889</td>\n",
       "      <td>51.572397</td>\n",
       "      <td>6</td>\n",
       "      <td>0</td>\n",
       "      <td>110</td>\n",
       "    </tr>\n",
       "    <tr>\n",
       "      <th>4</th>\n",
       "      <td>-0.090744</td>\n",
       "      <td>51.572395</td>\n",
       "      <td>6</td>\n",
       "      <td>0</td>\n",
       "      <td>110</td>\n",
       "    </tr>\n",
       "  </tbody>\n",
       "</table>\n",
       "</div>"
      ],
      "text/plain": [
       "   Longitude   Latitude  Day_of_Week  Hour  Day_of_year\n",
       "0  -0.140579  51.507549            6     0          110\n",
       "1  -0.073147  51.565363            6     0          110\n",
       "2  -0.078021  51.528483            6     0          110\n",
       "3  -0.090889  51.572397            6     0          110\n",
       "4  -0.090744  51.572395            6     0          110"
      ]
     },
     "execution_count": 17,
     "metadata": {},
     "output_type": "execute_result"
    }
   ],
   "source": [
    "import numpy as np\n",
    "pre = np.array(X1)\n",
    "X1.head()"
   ]
  },
  {
   "cell_type": "code",
   "execution_count": 18,
   "metadata": {},
   "outputs": [],
   "source": [
    "#ip = pre[:]\n",
    "probability=pd.DataFrame(model.predict_proba(y_pred))\n",
    "op = clf.predict_proba(np.array(X1))"
   ]
  },
  {
   "cell_type": "code",
   "execution_count": 19,
   "metadata": {},
   "outputs": [
    {
     "name": "stdout",
     "output_type": "stream",
     "text": [
      "[0.         0.00666667 0.         0.00666667 0.00666667 0.\n",
      " 0.         0.         0.00666667 0.         0.00666667 0.00666667\n",
      " 0.        ]\n"
     ]
    }
   ],
   "source": [
    "probab= op[:,1]\n",
    "print(probab)"
   ]
  },
  {
   "cell_type": "code",
   "execution_count": 20,
   "metadata": {},
   "outputs": [],
   "source": [
    "\n",
    "df_inputdata1 = pd.DataFrame(columns=['Longitude','Latitude','Day_of_Week','Hour','Day_of_year'])\n",
    "\n",
    "for index, row in df_inputdata.iterrows():\n",
    "    longitude=row['Longitude']\n",
    "    latitude=row['Latitude']\n",
    "    dweek=row['Day_of_Week']\n",
    "    nhr=row['Hour']\n",
    "    nday=row['Day_of_year']\n",
    "    \n",
    "    dfnew=pd.DataFrame([[longitude,latitude,dweek,nhr,nday]],\n",
    "                       columns=['Longitude','Latitude','Day_of_Week','Hour','Day_of_year',])\n",
    "    df_inputdata1 = df_inputdata1.append(dfnew,ignore_index=True)\n",
    "    \n",
    "df_inputdata1['Probability']=probab\n",
    "df_inputdata1.to_csv(\"inputdata.csv\")\n"
   ]
  },
  {
   "cell_type": "code",
   "execution_count": null,
   "metadata": {},
   "outputs": [],
   "source": []
  }
 ],
 "metadata": {
  "kernelspec": {
   "display_name": "Python 3",
   "language": "python",
   "name": "python3"
  },
  "language_info": {
   "codemirror_mode": {
    "name": "ipython",
    "version": 3
   },
   "file_extension": ".py",
   "mimetype": "text/x-python",
   "name": "python",
   "nbconvert_exporter": "python",
   "pygments_lexer": "ipython3",
   "version": "3.7.4"
  }
 },
 "nbformat": 4,
 "nbformat_minor": 2
}
